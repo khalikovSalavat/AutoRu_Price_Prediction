{
 "cells": [
  {
   "cell_type": "code",
   "execution_count": 1,
   "id": "84b5655f",
   "metadata": {},
   "outputs": [],
   "source": [
    "import warnings\n",
    "warnings.simplefilter('ignore')\n",
    "\n",
    "import pandas as pd\n",
    "from pandas import CategoricalDtype\n",
    "from matplotlib import pyplot as plt\n",
    "import seaborn as sns\n",
    "import re\n",
    "\n",
    "from selenium.webdriver import Chrome"
   ]
  },
  {
   "cell_type": "code",
   "execution_count": 2,
   "id": "c55c63b9",
   "metadata": {},
   "outputs": [],
   "source": [
    "driver = Chrome('chromedriver')\n",
    "url = 'https://auto.ru/rossiya/cars/toyota/'\n",
    "models = ['camry', 'corolla', 'land_cruiser', 'land_cruiser_prado', 'rav_4']"
   ]
  },
  {
   "cell_type": "code",
   "execution_count": 3,
   "id": "e899e648",
   "metadata": {},
   "outputs": [],
   "source": [
    "def parse_block(block):\n",
    "    summary = block.find_element_by_class_name('ListingItem__summary')\n",
    "    h3 = summary.find_element_by_tag_name('h3')\n",
    "    name = h3.text\n",
    "    url = h3.find_element_by_tag_name('a').get_attribute('href')\n",
    "\n",
    "    params1, params2 = dfblock.find_elements_by_class_name('ListingItemTechSummaryDesktop__column')\n",
    "    eng = params1.find_element_by_class_name('ListingItemTechSummaryDesktop__cell').text\n",
    "\n",
    "    drive, color = (div.text for div in params2.find_elements_by_tag_name('div'))\n",
    "\n",
    "    price = ''.join(re.findall('[\\d]+', block.find_element_by_class_name('ListingItem__priceBlock')\n",
    "                               .find_element_by_tag_name('div')\n",
    "                               .text))\n",
    "    try:\n",
    "        year = block.find_element_by_class_name('ListingItem__yearBlock').text\n",
    "    except:\n",
    "        year = None\n",
    "    \n",
    "    try:\n",
    "        mileage = ''.join(re.findall('[\\d]+', block.find_element_by_class_name('ListingItem__kmAge').text))\n",
    "    except:\n",
    "        mileage = None\n",
    "    \n",
    "    try:\n",
    "        city = block.find_element_by_class_name('MetroListPlace__regionName').text\n",
    "    except:\n",
    "        city = None\n",
    "        \n",
    "    row = {\n",
    "        'model': model,\n",
    "        'name': name,\n",
    "        'url': url,\n",
    "        'eng': eng,\n",
    "        'drive': drive,\n",
    "        'color': color,\n",
    "        'price': price,\n",
    "        'year': year,\n",
    "        'mileage': mileage,\n",
    "        'city': city,\n",
    "    }\n",
    "    \n",
    "    return row"
   ]
  },
  {
   "cell_type": "code",
   "execution_count": 4,
   "id": "bf5c7aa9",
   "metadata": {},
   "outputs": [],
   "source": [
    "columns = ['model', 'name', 'url', 'eng', 'drive', 'color', 'price', 'year', 'mileage', 'city']\n",
    "df = pd.DataFrame(columns=columns)\n",
    "\n",
    "for model in models:\n",
    "    model_url = url + model + '/used'\n",
    "    driver.get(model_url)\n",
    "    \n",
    "    last_page = int(driver.find_element_by_class_name('ListingPagination__pages').text.split('\\n')[-1])\n",
    "    model_pages = [model_url] + [model_url+'?page='+str(p) for p in range(2,last_page+1)]\n",
    "    \n",
    "    for page in model_pages:\n",
    "        driver.get(page)\n",
    "        blocks = driver.find_elements_by_class_name('ListingItem')\n",
    "\n",
    "        for block in blocks:\n",
    "            row = parse_block(block)\n",
    "            df = df.append(row, ignore_index=True)"
   ]
  },
  {
   "cell_type": "code",
   "execution_count": 6,
   "id": "6737ded2",
   "metadata": {},
   "outputs": [],
   "source": [
    "df = df.drop_duplicates()\n",
    "df.to_csv('data_.csv')\n",
    "df = pd.read_csv('data_.csv')"
   ]
  },
  {
   "cell_type": "code",
   "execution_count": 7,
   "id": "afd4f7b0",
   "metadata": {},
   "outputs": [
    {
     "name": "stdout",
     "output_type": "stream",
     "text": [
      "Строк в исходном файле: 12402\n",
      "Строк после удаления N/A: 12158\n"
     ]
    }
   ],
   "source": [
    "print(f'Строк в исходном файле: {df.shape[0]}\\nСтрок после удаления N/A: {df.dropna().shape[0]}')"
   ]
  },
  {
   "cell_type": "code",
   "execution_count": 8,
   "id": "251678a2",
   "metadata": {},
   "outputs": [],
   "source": [
    "df = df.dropna()"
   ]
  },
  {
   "cell_type": "code",
   "execution_count": 9,
   "id": "f85d1011",
   "metadata": {},
   "outputs": [],
   "source": [
    "df.drop([col for col in df if 'Unnamed' in col], axis=1, inplace=True)"
   ]
  },
  {
   "cell_type": "code",
   "execution_count": 10,
   "id": "72f4fe93",
   "metadata": {},
   "outputs": [],
   "source": [
    "df['name'] = df.apply(lambda r: r['name'][8+len(r['model']):], axis=1)\n",
    "df[['eng_vol', 'hp', 'fuel']] = df['eng'].str.split('/', expand=True)\n",
    "df['eng_vol'] = df['eng_vol'].str.replace(' л', '').astype('float')\n",
    "df.drop('eng', axis=1, inplace=True)\n",
    "df['hp'] = df['hp'].str.replace(' л.с.', '').astype('int')"
   ]
  },
  {
   "cell_type": "code",
   "execution_count": 11,
   "id": "3f39077a",
   "metadata": {},
   "outputs": [],
   "source": [
    "int_feat = ['price', 'year', 'mileage', 'hp']\n",
    "float_feat = ['eng_vol']\n",
    "nom_feat = ['model', 'name', 'url', 'city']\n",
    "unordered_feat = ['drive', 'color', 'fuel']\n",
    "\n",
    "for f in int_feat:\n",
    "    df[f] = df[f].astype('int')\n",
    "\n",
    "for f in float_feat:\n",
    "    df[f] = df[f].astype('float')\n",
    "\n",
    "for f in nom_feat:\n",
    "    df[f] = df[f].astype('category')\n",
    "\n",
    "for f in unordered_feat:\n",
    "    df[f] = df[f].astype(CategoricalDtype(df[f].unique(), ordered=False))"
   ]
  },
  {
   "cell_type": "code",
   "execution_count": 12,
   "id": "69941574",
   "metadata": {},
   "outputs": [],
   "source": [
    "df.to_pickle('data.csv')"
   ]
  }
 ],
 "metadata": {
  "kernelspec": {
   "display_name": "Python 3",
   "language": "python",
   "name": "python3"
  },
  "language_info": {
   "codemirror_mode": {
    "name": "ipython",
    "version": 3
   },
   "file_extension": ".py",
   "mimetype": "text/x-python",
   "name": "python",
   "nbconvert_exporter": "python",
   "pygments_lexer": "ipython3",
   "version": "3.8.8"
  }
 },
 "nbformat": 4,
 "nbformat_minor": 5
}
